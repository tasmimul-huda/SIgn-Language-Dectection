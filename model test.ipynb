{
 "cells": [
  {
   "cell_type": "code",
   "execution_count": 1,
   "id": "65651213-ea94-4e37-bacb-e3ac204e8541",
   "metadata": {},
   "outputs": [],
   "source": [
    "from keras.models import load_model"
   ]
  },
  {
   "cell_type": "code",
   "execution_count": 2,
   "id": "3e013054-cda8-47cd-9a69-24f5f417c41a",
   "metadata": {},
   "outputs": [],
   "source": [
    "model = load_model(\"Models/model_seed_41.h5\")"
   ]
  },
  {
   "cell_type": "code",
   "execution_count": null,
   "id": "5798dbc6-7ce7-4f67-93ac-66163bed0c4d",
   "metadata": {},
   "outputs": [],
   "source": []
  }
 ],
 "metadata": {
  "kernelspec": {
   "display_name": "Python 3",
   "language": "python",
   "name": "python3"
  },
  "language_info": {
   "codemirror_mode": {
    "name": "ipython",
    "version": 3
   },
   "file_extension": ".py",
   "mimetype": "text/x-python",
   "name": "python",
   "nbconvert_exporter": "python",
   "pygments_lexer": "ipython3",
   "version": "3.8.8"
  }
 },
 "nbformat": 4,
 "nbformat_minor": 5
}
